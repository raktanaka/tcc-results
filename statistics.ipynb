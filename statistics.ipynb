{
  "cells": [
    {
      "cell_type": "markdown",
      "metadata": {
        "id": "2g7E-zjITLLU"
      },
      "source": [
        "# TCC - Genetic Algorithm to control Waves in Games\n",
        "\n",
        "### Authors:\n",
        " - Daniel Hotta\n",
        " - Rafael Gonçalves Pereira Silva\n",
        " - Ricardo Akira Tanaka"
      ]
    },
    {
      "cell_type": "code",
      "execution_count": 2,
      "metadata": {
        "id": "P4p_u0VkCucC"
      },
      "outputs": [],
      "source": [
        "import os\n",
        "import numpy as np\n",
        "import pandas as pd\n",
        "import matplotlib\n",
        "import matplotlib.pyplot as plt\n",
        "import matplotlib.image as mpimg\n",
        "import matplotlib.gridspec as mpgs\n",
        "from matplotlib.backends.backend_pdf import PdfPages\n"
      ]
    },
    {
      "cell_type": "markdown",
      "metadata": {
        "id": "qjdIHDUXQfj8"
      },
      "source": [
        "## Simple description\n",
        "\n",
        "This notebook uses the results of the experiments we made with our Genetic Algorithm to conclude the overall perfomance agrandomnst a Uniform Enemy Generator and \"Naive Strategies\" (Like All Enemies with the same color or One of Each color).\n",
        "For uniform enemies, 10 waves were enough data, otherwise (random and AI) 30 waves were collected.\n",
        "\n",
        "- The libs you can find in two repositories: [SpaceShip](https://github.com/RGPRafael/godot) and [Tower Defense](https://github.com/raktanaka/tccTD)\n",
        "\n",
        "- The full dataset can be found [here](https://github.com/raktanaka/tcc-results).\n",
        "\n",
        "\n"
      ]
    },
    {
      "cell_type": "code",
      "execution_count": 3,
      "metadata": {},
      "outputs": [],
      "source": [
        "def GetFilelist():\n",
        "    td_files = []\n",
        "    ss_files = []\n",
        "\n",
        "    for subdir, dirs, files in os.walk('.'):\n",
        "        for file in files:\n",
        "            if subdir[2:] == 'tccTD' and filepath.endswith('.txt'):\n",
        "                filepath = subdir + os.sep + file\n",
        "                td_files.append(filepath)\n",
        "            elif subdir[2:] == 'tccSS' and filepath.endswith('.txt'):\n",
        "                filepath = subdir + os.sep + file\n",
        "                ss_files.append(filepath)\n",
        "            else:\n",
        "                pass\n",
        "    return(td_files, ss_files)"
      ]
    },
    {
      "cell_type": "markdown",
      "metadata": {},
      "source": [
        "Reads txt data, trimmings results for 300 lines in case of 10 waves, or 900 lines for 30 waves."
      ]
    },
    {
      "cell_type": "code",
      "execution_count": 4,
      "metadata": {
        "id": "uKQSU-mSHbdO"
      },
      "outputs": [],
      "source": [
        "def GetFileData(filepath):\n",
        "  df = pd.read_csv(filepath, header=None, delimiter=';')\n",
        "\n",
        "  if df.shape[0] < 899:\n",
        "    return(df.iloc[:300])\n",
        "  else:\n",
        "    return(df.iloc[:900])\n",
        "    "
      ]
    },
    {
      "cell_type": "code",
      "execution_count": 5,
      "metadata": {},
      "outputs": [],
      "source": [
        "td_allred_ai_file = os.path.join('tccTD', 'AllRed - AI.txt')\n",
        "td_allred_rd_file = os.path.join('tccTD', 'AllRed - Random.txt')\n",
        "\n",
        "#td_allgreen_ai_file = os.path.join('tccTD', 'AllGreen - AI.txt')\n",
        "#td_allgreen_rd_file = os.path.join('tccTD', 'AllGreen - Random.txt')\n",
        "\n",
        "td_greenred_ai_file = os.path.join('tccTD', 'GreenRed - AI.txt')\n",
        "td_greenred_rd_file = os.path.join('tccTD', 'GreenRed - Random.txt')\n",
        "\n",
        "td_redgreen_ai_file = os.path.join('tccTD', 'RedGreen - AI.txt')\n",
        "td_redgreen_rd_file = os.path.join('tccTD', 'RedGreen - Random.txt')"
      ]
    },
    {
      "cell_type": "code",
      "execution_count": 6,
      "metadata": {},
      "outputs": [],
      "source": [
        "ss_yellowmove_ai_file = os.path.join('tccSS', 'IA_MOVING_ SHOOTING _YELLOW_SHOOT - AI.txt')\n",
        "ss_yellowmove_rd_file = os.path.join('tccSS', 'IA_MOVING_ SHOOTING _YELLOW_SHOOT - Random.txt')\n",
        "\n",
        "ss_yellowstill_ai_file = os.path.join('tccSS', 'IA_STILL_YELLOW_SHOOT - AI.txt')\n",
        "ss_yellowstill_rd_file = os.path.join('tccSS', 'IA_STILL_YELLOW_SHOOT - Random.txt')\n",
        "\n",
        "ss_redmove_ai_file = os.path.join('tccSS', 'IA_MOVING_SHOOTING_ RED_SHOOT - AI.txt')\n",
        "ss_redmove_rd_file = os.path.join('tccSS', 'IA_MOVING_SHOOTING_ RED_SHOOT - Random.txt')\n",
        "\n",
        "#ss_redstill_ai_file = os.path.join('tccSS', 'IA_STILL_RED_SHOOT - AI.txt')\n",
        "#ss_redstill_rd_file = os.path.join('tccSS', 'IA_STILL_RED_SHOOT - Random.txt')"
      ]
    },
    {
      "cell_type": "markdown",
      "metadata": {},
      "source": [
        "Tower Defense data \"header\"\n",
        "0: wave number\n",
        "1-12: element in wave\n",
        "13: damage done in wave"
      ]
    },
    {
      "cell_type": "code",
      "execution_count": 7,
      "metadata": {},
      "outputs": [],
      "source": [
        "td_allred_ai = GetFileData(td_allred_ai_file)\n",
        "td_allred_rd = GetFileData(td_allred_rd_file)\n",
        "\n",
        "#td_allgreen_ai = GetFileData(td_allgreen_ai_file)\n",
        "#td_allgreen_rd = GetFileData(td_allgreen_rd_file)\n",
        "\n",
        "td_greenred_ai = GetFileData(td_greenred_ai_file)\n",
        "td_greenred_rd = GetFileData(td_greenred_rd_file)\n",
        "\n",
        "td_redgreen_ai = GetFileData(td_redgreen_ai_file)\n",
        "td_redgreen_rd = GetFileData(td_redgreen_rd_file)"
      ]
    },
    {
      "cell_type": "code",
      "execution_count": 8,
      "metadata": {},
      "outputs": [],
      "source": [
        "ss_yellowmove_ai = GetFileData(ss_yellowmove_ai_file)\n",
        "ss_yellowmove_rd = GetFileData(ss_yellowmove_rd_file)\n",
        "\n",
        "ss_yellowstill_ai = GetFileData(ss_yellowstill_ai_file)\n",
        "ss_yellowstill_rd = GetFileData(ss_yellowstill_rd_file)\n",
        "\n",
        "ss_redmove_ai = GetFileData(ss_redmove_ai_file)\n",
        "ss_redmove_rd = GetFileData(ss_redmove_rd_file)\n",
        "\n",
        "#ss_redstill_ai = GetFileData(ss_redstill_ai_file)\n",
        "#ss_redstill_rd = GetFileData(ss_redstill_rd_file)"
      ]
    },
    {
      "cell_type": "code",
      "execution_count": 9,
      "metadata": {},
      "outputs": [],
      "source": [
        "def GenerateHeader(df):\n",
        "    header = ['wave number']\n",
        "\n",
        "    if df.shape[1] < 14:\n",
        "        n_enemies = 6\n",
        "    else:\n",
        "        n_enemies = 12\n",
        "\n",
        "    for each in range(n_enemies):\n",
        "        header.append(str('enemy ' + str(each + 1)))\n",
        "\n",
        "    header.append('total damage')\n",
        "    return(header)"
      ]
    },
    {
      "cell_type": "code",
      "execution_count": 10,
      "metadata": {},
      "outputs": [],
      "source": [
        "td_allred_ai.columns = GenerateHeader(td_allred_ai)\n",
        "td_allred_rd.columns = GenerateHeader(td_allred_rd)\n",
        "\n",
        "#td_allgreen_ai.columns(GenerateHeader(td_allgreen_ai)\n",
        "#td_allgreen_rd.columns(GenerateHeader(td_allgreen_rd)\n",
        "\n",
        "td_greenred_ai.columns = GenerateHeader(td_greenred_ai)\n",
        "td_greenred_rd.columns = GenerateHeader(td_greenred_rd)\n",
        "\n",
        "td_redgreen_ai.columns = GenerateHeader(td_redgreen_ai)\n",
        "td_redgreen_rd.columns = GenerateHeader(td_redgreen_rd)"
      ]
    },
    {
      "cell_type": "code",
      "execution_count": 11,
      "metadata": {},
      "outputs": [],
      "source": [
        "ss_yellowmove_ai.columns = GenerateHeader(ss_yellowmove_ai)\n",
        "ss_yellowmove_rd.columns = GenerateHeader(ss_yellowmove_rd)\n",
        "\n",
        "ss_yellowstill_ai.columns = GenerateHeader(ss_yellowstill_ai)\n",
        "ss_yellowstill_rd.columns = GenerateHeader(ss_yellowstill_rd)\n",
        "\n",
        "ss_redmove_ai.columns = GenerateHeader(ss_redmove_ai)\n",
        "ss_redmove_rd.columns = GenerateHeader(ss_redmove_rd)\n",
        "\n",
        "#ss_redstill_ai.columns = GenerateHeader(ss_redstill_ai)\n",
        "#ss_redstill_rd.columns = GenerateHeader(ss_redstill_rd)"
      ]
    },
    {
      "cell_type": "markdown",
      "metadata": {},
      "source": [
        "Calculates statistics from the i-wave from each of the 30 experiments"
      ]
    },
    {
      "cell_type": "code",
      "execution_count": 62,
      "metadata": {},
      "outputs": [],
      "source": [
        "def CalcStats(df):\n",
        "    \n",
        "    new_df_header = ['wave number', 'average damage', 'standart deviation']\n",
        "    wave_num = list(range(1, 31))\n",
        "    mean = []\n",
        "    stdev = []\n",
        "\n",
        "    # Loops each i wave for the 30 experiments\n",
        "    for i in range(1, 31):\n",
        "        tmp_df = df[df['wave number'] == i]\n",
        "        mean.append(tmp_df['total damage'].mean())\n",
        "        stdev.append(tmp_df['total damage'].std())\n",
        "        #l['average damage'] = f\"{tmp_df['total damage'].mean():.2f}\"\n",
        "        #l['standart deviation'] = f\"{tmp_df['total damage'].std():.2f}\"\n",
        "        #res.append(l)\n",
        "\n",
        "    new_df = pd.DataFrame(zip(wave_num, mean, stdev), columns=new_df_header)\n",
        "    return(new_df)"
      ]
    },
    {
      "cell_type": "code",
      "execution_count": 63,
      "metadata": {},
      "outputs": [],
      "source": [
        "#td_allgreen_ai_stats = CalcStats(td_allgreen_ai)\n",
        "td_allred_ai_stats = CalcStats(td_allred_ai)\n",
        "td_greenred_ai_stats = CalcStats(td_greenred_ai)\n",
        "td_redgreen_ai_stats = CalcStats(td_redgreen_ai)\n",
        "\n",
        "#td_allgreen_rd_stats = CalcStats(td_allgreen_random)\n",
        "td_allred_rd_stats = CalcStats(td_allred_rd)\n",
        "td_greenred_rd_stats = CalcStats(td_greenred_rd)\n",
        "td_redgreen_rd_stats = CalcStats(td_redgreen_rd)"
      ]
    },
    {
      "cell_type": "code",
      "execution_count": 64,
      "metadata": {},
      "outputs": [],
      "source": [
        "ss_yellowmove_ai_stats = CalcStats(ss_yellowmove_ai)\n",
        "ss_yellowstill_ai_stats = CalcStats(ss_yellowstill_ai)\n",
        "ss_redmove_ai_stats = CalcStats(ss_redmove_ai)\n",
        "#ss_redstill_ai_stats = CalcStats(ss_redstill_ai)\n",
        "\n",
        "ss_yellowmove_rd_stats = CalcStats(ss_yellowmove_rd)\n",
        "ss_yellowstill_rd_stats = CalcStats(ss_yellowstill_rd)\n",
        "ss_redmove_rd_stats = CalcStats(ss_redmove_rd)\n",
        "#ss_redstill_rd_stats = CalcStats(ss_redstill_rd)"
      ]
    },
    {
      "cell_type": "code",
      "execution_count": 159,
      "metadata": {},
      "outputs": [],
      "source": [
        "def GetDataPerWave(df):\n",
        "    \n",
        "    dic = {}\n",
        "\n",
        "    # Loops each i wave for the 30 experiments\n",
        "    for i in range(1, 31):\n",
        "        tmp_df = df[df['wave number'] == i]\n",
        "        dic[str(i)] = tmp_df['total damage'].values\n",
        "        #l.append(tmp_df['total damage'].values)\n",
        "\n",
        "    return(pd.DataFrame.from_dict(dic))"
      ]
    },
    {
      "cell_type": "code",
      "execution_count": 160,
      "metadata": {},
      "outputs": [],
      "source": [
        "#td_allgreen_ai_perwave = GetDataPerWave(td_allgreen_ai)\n",
        "td_allred_ai_perwave = GetDataPerWave(td_allred_ai)\n",
        "td_greenred_ai_perwave = GetDataPerWave(td_greenred_ai)\n",
        "td_redgreen_ai_perwave = GetDataPerWave(td_redgreen_ai)\n",
        "\n",
        "#td_allgreen_rd_perwave = GetDataPerWave(td_allgreen_random)\n",
        "td_allred_rd_perwave = GetDataPerWave(td_allred_rd)\n",
        "td_greenred_rd_perwave = GetDataPerWave(td_greenred_rd)\n",
        "td_redgreen_rd_perwave = GetDataPerWave(td_redgreen_rd)"
      ]
    },
    {
      "cell_type": "code",
      "execution_count": 192,
      "metadata": {},
      "outputs": [],
      "source": [
        "ss_yellowmove_ai_perwave = GetDataPerWave(ss_yellowmove_ai)\n",
        "ss_yellowstill_ai_perwave = GetDataPerWave(ss_yellowstill_ai)\n",
        "ss_redmove_ai_perwave = GetDataPerWave(ss_redmove_ai)\n",
        "#ss_redstill_ai_perwave = GetDataPerWave(ss_redstill_ai)\n",
        "\n",
        "ss_yellowmove_rd_perwave = GetDataPerWave(ss_yellowmove_rd)\n",
        "ss_yellowstill_rd_perwave = GetDataPerWave(ss_yellowstill_rd)\n",
        "ss_redmove_rd_perwave = GetDataPerWave(ss_redmove_rd)\n",
        "#ss_redstill_rd_perwave = GetDataPerWave(ss_redstill_rd)"
      ]
    },
    {
      "cell_type": "markdown",
      "metadata": {},
      "source": [
        "Function to generate the boxplot"
      ]
    },
    {
      "cell_type": "code",
      "execution_count": null,
      "metadata": {},
      "outputs": [],
      "source": [
        "def GetBoxplot(df_rd, df_ai, filename):\n",
        "\n",
        "    y_min = 0\n",
        "    y_max = np.ceil(df_ai.max().max() + df_ai.std().max())\n",
        "\n",
        "    outliers = dict(markerfacecolor='black', marker='.')\n",
        "    mean = dict(markerfacecolor='red', markeredgecolor='black', marker='s')\n",
        "    median = dict(linewidth=1.5, color='black')\n",
        "\n",
        "    fig, (ax1, ax2) = plt.subplots(1, 2)\n",
        "    fig.set_figheight(4)\n",
        "    fig.set_figwidth(15)\n",
        "    fig.patch.set_facecolor('white')\n",
        "    plt.text(x=0.5, y=0.95, s=filename, fontsize=18, ha=\"center\", transform=fig.transFigure)\n",
        "    plt.text(x=0.5, y=0.91, s='Boxplot de 30 experimentos para cada i-ésima onda', fontsize=12, ha=\"center\", transform=fig.transFigure)\n",
        "    ax1.set_title('Random')\n",
        "    ax1.set_ylim(y_min, y_max)\n",
        "    ax1.boxplot(df_rd, showmeans=True, widths=0.33, flierprops=outliers, meanprops=mean, medianprops=median)\n",
        "    ax1.set_ylabel('Wave Damage')\n",
        "    ax1.set_xlabel('Wave')\n",
        "    ax2.set_title('AI')\n",
        "    ax2.boxplot(df_ai, showmeans=True, widths=0.33, flierprops=outliers, meanprops=mean, medianprops=median)\n",
        "    ax2.set_ylim(y_min, y_max)\n",
        "    ax2.set_xlabel('Wave')\n",
        "    plt.savefig(filename)\n",
        "    plt.close()"
      ]
    },
    {
      "cell_type": "code",
      "execution_count": 213,
      "metadata": {},
      "outputs": [],
      "source": [
        "#GetBoxplot(td_allgreen_rd_perwave, td_allgreen_ai_perwave, 'TD Torres Verde')\n",
        "GetBoxplot(td_allred_rd_perwave, td_allred_ai_perwave, 'TD Torres Vermelhas')\n",
        "GetBoxplot(td_greenred_rd_perwave, td_greenred_ai_perwave, 'TD Torres Verdes + Vermelhas')\n",
        "GetBoxplot(td_redgreen_rd_perwave, td_redgreen_ai_perwave, 'TD Torres Vermelhas + Verdes')"
      ]
    },
    {
      "cell_type": "code",
      "execution_count": 212,
      "metadata": {},
      "outputs": [],
      "source": [
        "GetBoxplot(ss_yellowmove_rd_perwave, ss_yellowmove_ai_perwave, 'SS Disparo Amarelo + Movendo')\n",
        "GetBoxplot(ss_yellowstill_rd_perwave, ss_yellowstill_ai_perwave, 'SS Disparo Amarelo + Parado')\n",
        "GetBoxplot(ss_redmove_rd_perwave, ss_redmove_ai_perwave, 'SS Disparo Vermelho + Movendo')\n",
        "#GetBoxplot(ss_redstill_rd_perwave, ss_redstill_ai_perwave, 'SS Disparo Vermelho + Parado')"
      ]
    },
    {
      "cell_type": "code",
      "execution_count": null,
      "metadata": {},
      "outputs": [],
      "source": [
        "plt.figure(figsize=(12, 8), dpi=80)\n",
        "plt.errorbar(td_allred_ai_stats['wave number'], td_allred_ai_stats['average damage'], yerr=td_allred_ai_stats['standart deviation'], linestyle='None', marker='o')\n",
        "plt.xlabel('Wave Number')\n",
        "plt.xticks(td_allred_ai_stats['wave number'])\n",
        "plt.ylabel('Average Damage')\n",
        "std_max = np.floor(float(td_allred_ai_stats['standart deviation'].max()))\n",
        "dmg_min = 0.9 * np.floor(float(td_allred_ai_stats['average damage'].min())) - std_max\n",
        "dmg_max = 1.2 * np.ceil(float(td_allred_ai_stats['average damage'].max())) + std_max\n",
        "plt.yticks(np.arange(dmg_min, dmg_max, (dmg_max - dmg_min) / 10))\n",
        "#print(td_allred_ai_stats['standart deviation'])\n",
        "plt.show()"
      ]
    },
    {
      "cell_type": "code",
      "execution_count": null,
      "metadata": {},
      "outputs": [],
      "source": [
        "fig, (ax1, ax2) = plt.subplots(1, 2)\n",
        "plt.text(x=0.5, y=1.0, s='TD Red+Green Towers - Random vs AI - 30 Runs', fontsize=18, ha=\"center\", transform=fig.transFigure)\n",
        "plt.text(x=0.5, y=0.92, s='Per Run Average and All Run-Single Wave Mean', fontsize=12, ha=\"center\", transform=fig.transFigure)\n",
        "ax1.plot(mean_wave_rg_ai, 'bo',label='AI')\n",
        "ax1.plot(mean_wave_rg_random, 'ro', label='Random')\n",
        "ax2.plot(mean_perwave_rg_ai, 'bo',label='AI')\n",
        "ax2.plot(mean_perwave_rg_random, 'ro', label='Random')\n",
        "plt.legend(bbox_to_anchor=(1.05, 1), loc=2, borderaxespad=0.)\n",
        "fig.set_figwidth(15)\n",
        "plt.show()\n",
        "\n",
        "print('Média da AI: ' + str(td_redgreen_ai[td_redgreen_ai.columns[-1]].mean()))\n",
        "print('Desvio Padrão da AI: ' + str(td_redgreen_ai[td_redgreen_ai.columns[-1]].std()))\n",
        "print('Média da Random: ' + str(td_redgreen_random[td_redgreen_random.columns[-1]].mean()))\n",
        "print('Desvio Padrão da Random: ' + str(td_redgreen_random[td_redgreen_random.columns[-1]].std()))"
      ]
    }
  ],
  "metadata": {
    "colab": {
      "collapsed_sections": [],
      "name": "tcc-analysis.ipynb",
      "provenance": []
    },
    "kernelspec": {
      "display_name": "Python 3",
      "name": "python3"
    },
    "language_info": {
      "codemirror_mode": {
        "name": "ipython",
        "version": 3
      },
      "file_extension": ".py",
      "mimetype": "text/x-python",
      "name": "python",
      "nbconvert_exporter": "python",
      "pygments_lexer": "ipython3",
      "version": "3.9.7"
    }
  },
  "nbformat": 4,
  "nbformat_minor": 0
}
