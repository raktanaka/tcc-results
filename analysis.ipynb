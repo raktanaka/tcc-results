{
  "cells": [
    {
      "cell_type": "markdown",
      "metadata": {
        "id": "2g7E-zjITLLU"
      },
      "source": [
        "# TCC - Genetic Algorithm to control Waves in Games\n",
        "\n",
        "### Authors:\n",
        " - Daniel Hotta\n",
        " - Rafael Gonçalves Pereira Silva\n",
        " - Ricardo Akira Tanaka"
      ]
    },
    {
      "cell_type": "code",
      "execution_count": 1,
      "metadata": {
        "id": "P4p_u0VkCucC"
      },
      "outputs": [],
      "source": [
        "import os\n",
        "import numpy as np\n",
        "import pandas as pd\n",
        "import matplotlib\n",
        "import matplotlib.pyplot as plt\n",
        "import matplotlib.image as mpimg\n",
        "import matplotlib.gridspec as mpgs\n",
        "from matplotlib.backends.backend_pdf import PdfPages\n",
        "import matplotlib.patches as mpatches\n"
      ]
    },
    {
      "cell_type": "markdown",
      "metadata": {
        "id": "qjdIHDUXQfj8"
      },
      "source": [
        "## Simple description\n",
        "\n",
        "This notebook uses the results of the experiments we made with our Genetic Algorithm to conclude the overall perfomance against a Uniform Enemy Generator and \"Naive Strategies\" (Like All Enemies with the same color or One of Each color).\n",
        "For uniform enemies, 10 waves were enough data, otherwise (random and AI) 30 waves were collected.\n",
        "\n",
        "- The libs you can find in two repositories: [SpaceShip](https://github.com/RGPRafael/godot) and [Tower Defense](https://github.com/raktanaka/tccTD)\n",
        "\n",
        "- The full dataset can be found [here](https://github.com/raktanaka/tcc-results).\n",
        "\n",
        "\n"
      ]
    },
    {
      "cell_type": "code",
      "execution_count": 2,
      "metadata": {},
      "outputs": [],
      "source": [
        "def GetFilelist():\n",
        "    td_files = []\n",
        "    ss_files = []\n",
        "\n",
        "    for subdir, dirs, files in os.walk('.'):\n",
        "        for file in files:\n",
        "            if subdir[2:] == 'tccTD' and filepath.endswith('.txt'):\n",
        "                filepath = subdir + os.sep + file\n",
        "                td_files.append(filepath)\n",
        "            elif subdir[2:] == 'tccSS' and filepath.endswith('.txt'):\n",
        "                filepath = subdir + os.sep + file\n",
        "                ss_files.append(filepath)\n",
        "            else:\n",
        "                pass\n",
        "    return(td_files, ss_files)"
      ]
    },
    {
      "cell_type": "markdown",
      "metadata": {},
      "source": [
        "Reads txt data, trimmings results for 300 lines in case of 10 waves, or 900 lines for 30 waves."
      ]
    },
    {
      "cell_type": "code",
      "execution_count": 3,
      "metadata": {
        "id": "uKQSU-mSHbdO"
      },
      "outputs": [],
      "source": [
        "def GetFileData(filepath):\n",
        "  df = pd.read_csv(filepath, header=None, delimiter=';')\n",
        "\n",
        "  if df.shape[0] < 899:\n",
        "    return(df.iloc[:300])\n",
        "  else:\n",
        "    return(df.iloc[:900])\n",
        "    "
      ]
    },
    {
      "cell_type": "code",
      "execution_count": 4,
      "metadata": {},
      "outputs": [],
      "source": [
        "td_allred_ai_file = os.path.join('tccTD', 'AllRed - AI.txt')\n",
        "td_allred_rd_file = os.path.join('tccTD', 'AllRed - Random.txt')\n",
        "\n",
        "td_allgreen_ai_file = os.path.join('tccTD', 'AllGreen - AI.txt')\n",
        "td_allgreen_rd_file = os.path.join('tccTD', 'AllGreen - Random.txt')\n",
        "\n",
        "td_greenred_ai_file = os.path.join('tccTD', 'GreenRed - AI.txt')\n",
        "td_greenred_rd_file = os.path.join('tccTD', 'GreenRed - Random.txt')\n",
        "\n",
        "td_redgreen_ai_file = os.path.join('tccTD', 'RedGreen - AI.txt')\n",
        "td_redgreen_rd_file = os.path.join('tccTD', 'RedGreen - Random.txt')"
      ]
    },
    {
      "cell_type": "code",
      "execution_count": 10,
      "metadata": {},
      "outputs": [],
      "source": [
        "ss_yellowmove_ai_file = os.path.join('tccSS', 'IA_MOVING_ SHOOTING _YELLOW_SHOOT - AI.txt')\n",
        "ss_yellowmove_rd_file = os.path.join('tccSS', 'IA_MOVING_ SHOOTING _YELLOW_SHOOT - Random.txt')\n",
        "\n",
        "ss_yellowstill_ai_file = os.path.join('tccSS', 'IA_STILL_YELLOW_SHOOT - AI.txt')\n",
        "ss_yellowstill_rd_file = os.path.join('tccSS', 'IA_STILL_YELLOW_SHOOT - Random.txt')\n",
        "\n",
        "ss_redmove_ai_file = os.path.join('tccSS', 'IA_MOVING_SHOOTING_ RED_SHOOT - AI.txt')\n",
        "ss_redmove_rd_file = os.path.join('tccSS', 'IA_MOVING_SHOOTING_ RED_SHOOT - Random.txt')\n",
        "\n",
        "ss_redstill_ai_file = os.path.join('tccSS', 'IA_STILL _RED_SHOOT - AI.txt')\n",
        "ss_redstill_rd_file = os.path.join('tccSS', 'IA_STILL _RED_SHOOT - Random.txt')"
      ]
    },
    {
      "cell_type": "markdown",
      "metadata": {},
      "source": [
        "Tower Defense data \"header\"\n",
        "0: wave number\n",
        "1-12: element in wave\n",
        "13: damage done in wave"
      ]
    },
    {
      "cell_type": "code",
      "execution_count": 6,
      "metadata": {},
      "outputs": [],
      "source": [
        "td_allred_ai = GetFileData(td_allred_ai_file)\n",
        "td_allred_rd = GetFileData(td_allred_rd_file)\n",
        "\n",
        "td_allgreen_ai = GetFileData(td_allgreen_ai_file)\n",
        "td_allgreen_rd = GetFileData(td_allgreen_rd_file)\n",
        "\n",
        "td_greenred_ai = GetFileData(td_greenred_ai_file)\n",
        "td_greenred_rd = GetFileData(td_greenred_rd_file)\n",
        "\n",
        "td_redgreen_ai = GetFileData(td_redgreen_ai_file)\n",
        "td_redgreen_rd = GetFileData(td_redgreen_rd_file)"
      ]
    },
    {
      "cell_type": "code",
      "execution_count": 11,
      "metadata": {},
      "outputs": [],
      "source": [
        "ss_yellowmove_ai = GetFileData(ss_yellowmove_ai_file)\n",
        "ss_yellowmove_rd = GetFileData(ss_yellowmove_rd_file)\n",
        "\n",
        "ss_yellowstill_ai = GetFileData(ss_yellowstill_ai_file)\n",
        "ss_yellowstill_rd = GetFileData(ss_yellowstill_rd_file)\n",
        "\n",
        "ss_redmove_ai = GetFileData(ss_redmove_ai_file)\n",
        "ss_redmove_rd = GetFileData(ss_redmove_rd_file)\n",
        "\n",
        "ss_redstill_ai = GetFileData(ss_redstill_ai_file)\n",
        "ss_redstill_rd = GetFileData(ss_redstill_rd_file)"
      ]
    },
    {
      "cell_type": "code",
      "execution_count": 12,
      "metadata": {},
      "outputs": [],
      "source": [
        "def GenerateHeader(df):\n",
        "    header = ['wave number']\n",
        "\n",
        "    if df.shape[1] < 14:\n",
        "        n_enemies = 6\n",
        "    else:\n",
        "        n_enemies = 12\n",
        "\n",
        "    for each in range(n_enemies):\n",
        "        header.append(str('enemy ' + str(each + 1)))\n",
        "\n",
        "    header.append('total damage')\n",
        "    return(header)"
      ]
    },
    {
      "cell_type": "code",
      "execution_count": 13,
      "metadata": {},
      "outputs": [],
      "source": [
        "td_allred_ai.columns = GenerateHeader(td_allred_ai)\n",
        "td_allred_rd.columns = GenerateHeader(td_allred_rd)\n",
        "\n",
        "td_allgreen_ai.columns = GenerateHeader(td_allgreen_ai)\n",
        "td_allgreen_rd.columns = GenerateHeader(td_allgreen_rd)\n",
        "\n",
        "td_greenred_ai.columns = GenerateHeader(td_greenred_ai)\n",
        "td_greenred_rd.columns = GenerateHeader(td_greenred_rd)\n",
        "\n",
        "td_redgreen_ai.columns = GenerateHeader(td_redgreen_ai)\n",
        "td_redgreen_rd.columns = GenerateHeader(td_redgreen_rd)"
      ]
    },
    {
      "cell_type": "code",
      "execution_count": 14,
      "metadata": {},
      "outputs": [],
      "source": [
        "ss_yellowmove_ai.columns = GenerateHeader(ss_yellowmove_ai)\n",
        "ss_yellowmove_rd.columns = GenerateHeader(ss_yellowmove_rd)\n",
        "\n",
        "ss_yellowstill_ai.columns = GenerateHeader(ss_yellowstill_ai)\n",
        "ss_yellowstill_rd.columns = GenerateHeader(ss_yellowstill_rd)\n",
        "\n",
        "ss_redmove_ai.columns = GenerateHeader(ss_redmove_ai)\n",
        "ss_redmove_rd.columns = GenerateHeader(ss_redmove_rd)\n",
        "\n",
        "ss_redstill_ai.columns = GenerateHeader(ss_redstill_ai)\n",
        "ss_redstill_rd.columns = GenerateHeader(ss_redstill_rd)"
      ]
    },
    {
      "cell_type": "markdown",
      "metadata": {},
      "source": [
        "td_allred_ai\n",
        "td_allred_rd\n",
        "\n",
        "#td_allgreen_ai\n",
        "#td_allgreen_rd\n",
        "\n",
        "td_greenred_ai\n",
        "td_greenred_rd\n",
        "\n",
        "td_redgreen_ai\n",
        "td_redgreen_rd"
      ]
    },
    {
      "cell_type": "code",
      "execution_count": 15,
      "metadata": {},
      "outputs": [],
      "source": [
        "def CalcStats(series):\n",
        "    res = []\n",
        "    res.append(series.mean())\n",
        "    res.append(series.std())\n",
        "\n",
        "    return(res)"
      ]
    },
    {
      "cell_type": "markdown",
      "metadata": {},
      "source": [
        "Calculates the mode for each wave considering the 30 experiments"
      ]
    },
    {
      "cell_type": "code",
      "execution_count": 16,
      "metadata": {},
      "outputs": [],
      "source": [
        "def CalcMode(df):\n",
        "    \n",
        "    res = []\n",
        "\n",
        "    for i in range(1, 31):\n",
        "        # Filtering per wave number (30 repetitions of wave i)\n",
        "        tmp_df = df[df['wave number'] == i]\n",
        "        # Calculating the mode\n",
        "        l = tmp_df.iloc[:, 0:-1].mode().iloc[[0]]\n",
        "        # Averaging the damage\n",
        "        l['average damage'] = f\"{tmp_df['total damage'].mean():.2f}\"\n",
        "        res.append(l)\n",
        "\n",
        "    new_df = pd.concat(res, ignore_index=True)\n",
        "    return(new_df)"
      ]
    },
    {
      "cell_type": "code",
      "execution_count": 17,
      "metadata": {},
      "outputs": [],
      "source": [
        "td_allgreen_ai_mode = CalcMode(td_allgreen_ai)\n",
        "td_allred_ai_mode = CalcMode(td_allred_ai)\n",
        "td_greenred_ai_mode = CalcMode(td_greenred_ai)\n",
        "td_redgreen_ai_mode = CalcMode(td_redgreen_ai)"
      ]
    },
    {
      "cell_type": "code",
      "execution_count": 18,
      "metadata": {},
      "outputs": [],
      "source": [
        "ss_yellowmove_ai_mode = CalcMode(ss_yellowmove_ai)\n",
        "ss_yellowstill_ai_mode = CalcMode(ss_yellowstill_ai)\n",
        "ss_redmove_ai_mode = CalcMode(ss_redmove_ai)\n",
        "ss_redstill_ai_mode = CalcMode(ss_redstill_ai)"
      ]
    },
    {
      "cell_type": "markdown",
      "metadata": {},
      "source": [
        "Auxiliar functions to clean characters and split the enemy and direction from the dataframe"
      ]
    },
    {
      "cell_type": "code",
      "execution_count": 17,
      "metadata": {},
      "outputs": [],
      "source": [
        "def SplitRow(str):\n",
        "    str = str.split(',')\n",
        "    # Checks for TD data\n",
        "    if len(str) == 2:\n",
        "        return(str[0], str[1])\n",
        "    else:\n",
        "        return(str[0], (str[1] + ',' + str[2]))\n",
        "\n",
        "\n",
        "def RemoveChar(str):\n",
        "\n",
        "    ch_rem = '()[] '\n",
        "    for i in ch_rem:\n",
        "        str = str.replace(i, '')\n",
        "    \n",
        "    return(str)\n",
        "\n",
        "def ListEnemies(df_row):\n",
        "\n",
        "    enemy_list = []\n",
        "    direction_list = []\n",
        "    \n",
        "    for each in df_row:\n",
        "        str = RemoveChar(each)\n",
        "        enemy, direction = SplitRow(str)\n",
        "        enemy_list.append(enemy)\n",
        "        direction_list.append(direction)\n",
        "\n",
        "    return(enemy_list, direction_list)\n",
        "\n",
        "def GetEnemyImg(enemy):\n",
        "\n",
        "    #img_td_blue = mpimg.imread(os.path.join('sprites', 'tank_blue.png'))\n",
        "    #img_td_green = mpimg.imread(os.path.join('sprites', 'tank_green.png'))\n",
        "    #img_td_orange = mpimg.imread(os.path.join('sprites', 'tank_orange.png'))\n",
        "    #img_td_purple = mpimg.imread(os.path.join('sprites', 'tank_purple.png'))\n",
        "    #img_td_red = mpimg.imread(os.path.join('sprites', 'tank_red.png'))\n",
        "    #img_td_yellow = mpimg.imread(os.path.join('sprites', 'tank_yellow.png'))\n",
        "\n",
        "    #img_ss_inimigos = mpimg.imread(os.path.join('sprites', 'inimigos.png'))\n",
        "    #img_ss_inimigo1 = mpimg.imread(os.path.join('sprites', 'inimigo1.png'))\n",
        "    #img_ss_inimigo2 = mpimg.imread(os.path.join('sprites', 'inimigo2.png'))\n",
        "    #img_ss_inimigo3 = mpimg.imread(os.path.join('sprites', 'inimigo3.png'))\n",
        "    #img_ss_inimigo4 = mpimg.imread(os.path.join('sprites', 'inimigo4.png'))\n",
        "    #img_ss_inimigo5 = mpimg.imread(os.path.join('sprites', 'inimigo5.png'))\n",
        "\n",
        "    if enemy == 'EnemyRed':\n",
        "        img = mpimg.imread(os.path.join('sprites', 'tank_red.png'))\n",
        "    elif enemy == 'EnemyGreen':\n",
        "        img = mpimg.imread(os.path.join('sprites', 'tank_green.png'))\n",
        "    elif enemy == 'EnemyBlue':\n",
        "        img = mpimg.imread(os.path.join('sprites', 'tank_blue.png'))\n",
        "    elif enemy == 'EnemyYellow':\n",
        "        img = mpimg.imread(os.path.join('sprites', 'tank_yellow.png'))\n",
        "    elif enemy == 'EnemyPurple':\n",
        "        img = mpimg.imread(os.path.join('sprites', 'tank_purple.png'))\n",
        "    elif enemy == 'EnemyOrange':\n",
        "        img = mpimg.imread(os.path.join('sprites', 'tank_orange.png'))\n",
        "\n",
        "    elif enemy == 'inimigos':\n",
        "        img = mpimg.imread(os.path.join('sprites', 'inimigos.png'))\n",
        "    elif enemy == 'inimigo1':\n",
        "        img = mpimg.imread(os.path.join('sprites', 'inimigo1.png'))\n",
        "    elif enemy == 'inimigo2':\n",
        "        img = mpimg.imread(os.path.join('sprites', 'inimigo2.png'))\n",
        "    elif enemy == 'inimigo3':\n",
        "        img = mpimg.imread(os.path.join('sprites', 'inimigo3.png'))\n",
        "    elif enemy == 'inimigo4':\n",
        "        img = mpimg.imread(os.path.join('sprites', 'inimigo4.png'))\n",
        "    elif enemy == 'inimigo5':\n",
        "        img = mpimg.imread(os.path.join('sprites', 'inimigo5.png'))\n",
        "\n",
        "    return(img)\n",
        "\n",
        "def GetDirection(dir):\n",
        "\n",
        "    # TD path orientation\n",
        "    if dir == '0':\n",
        "        char = 'N'\n",
        "    elif dir == '1':\n",
        "        char = 'S'\n",
        "    # SS asteroid spawn location\n",
        "    #var inimigos_each = [['inimigos',Vector2(90,-50)  ],\n",
        "    #                     ['inimigo1',Vector2(-100,300)],\n",
        "    #                     ['inimigo2',Vector2(1350,100)],\n",
        "    #                     ['inimigo3',Vector2(-100,100)],\n",
        "    #                     ['inimigo4',Vector2(200,-50) ],\n",
        "    #                     ['inimigo5',Vector2(1350,500)]]\n",
        "    elif dir == '90,-50':\n",
        "        char = '1'\n",
        "    elif dir == '200,-50':\n",
        "        char = '2'\n",
        "    elif dir == '1350,100':\n",
        "        char = '3'\n",
        "    elif dir == '1350,500':\n",
        "        char = '4'\n",
        "    elif dir == '-100,300':\n",
        "        char = '5'\n",
        "    elif dir == '-100,100':\n",
        "        char = '6'\n",
        "    \n",
        "    else:\n",
        "        print(dir)\n",
        "        char = '-'\n",
        "\n",
        "    return(char)"
      ]
    },
    {
      "cell_type": "markdown",
      "metadata": {},
      "source": [
        "Receives a row of the dataframe to generate the wave image"
      ]
    },
    {
      "cell_type": "code",
      "execution_count": 238,
      "metadata": {},
      "outputs": [],
      "source": [
        "def ImageWave(df, filename):\n",
        "    n_lin, n_col = (df.shape)\n",
        "    n_col = 2 * n_col - 2\n",
        "\n",
        "    # Checks for 12 (TD) or 6 (SS) enemies per wave\n",
        "    if n_col < 24:\n",
        "        # Space Shooter\n",
        "        #img_dpi = 200\n",
        "        bg_color = 'xkcd:dark grey'\n",
        "        font_color = 'white'\n",
        "    else:\n",
        "        # Tower Defense\n",
        "        #img_dpi = 200\n",
        "        bg_color = 'xkcd:light grey'\n",
        "        font_color = 'black'\n",
        "\n",
        "    #heights = [1] * n_lin\n",
        "    fig = plt.figure(dpi=300, tight_layout=True)\n",
        "    fig.patch.set_facecolor(bg_color)\n",
        "    fig.set_size_inches(4, 24, forward=True)\n",
        "    ax = np.zeros(n_col, dtype=object)\n",
        "    gs = fig.add_gridspec(n_lin, n_col)\n",
        "    # Loops each i wave mode, generating the images\n",
        "    for i in range(n_lin):\n",
        "        df_row = df.iloc[i, 1:-1]\n",
        "        enemy_list, direction_list = ListEnemies(df_row)\n",
        "        for j in range(n_col):\n",
        "            ax[j] = fig.add_subplot(gs[i, j])\n",
        "            plt.axis('off')\n",
        "            if j == 0:\n",
        "                ax[j].text(0.00, 0.45, str(i + 1), fontsize='xx-small', fontweight='bold', color=font_color)\n",
        "            elif j == (n_col - 1):\n",
        "                ax[j].text(0.45, 0.45, str(df.iloc[i, -1]), fontsize='xx-small', fontweight='bold', color=font_color)\n",
        "            else:\n",
        "            #ax[j].set_facecolor('xkcd:grey')\n",
        "                #plt.axis('off')\n",
        "                if j % 2 == 1:\n",
        "                    nj = int(np.floor((j - 1) / 2))\n",
        "                    img = GetEnemyImg(enemy_list[nj])\n",
        "                    ax[j].imshow(img)\n",
        "                else:\n",
        "                    nj = (j // 2) - 1\n",
        "                    char = GetDirection(direction_list[nj])\n",
        "                    ax[j].text(-0.05, 0.44, char, fontsize=4.0, fontweight='bold', color=font_color)\n",
        "                    #tail, head = GetDirection(direction_list[nj])\n",
        "                    #ax[j].add_patch(mpatches.FancyArrowPatch(tail, head, mutation_scale=4, color='black'))\n",
        "    plt.close()\n",
        "    filename += '.png'\n",
        "    fig.savefig(filename)\n"
      ]
    },
    {
      "cell_type": "code",
      "execution_count": 242,
      "metadata": {},
      "outputs": [
        {
          "name": "stderr",
          "output_type": "stream",
          "text": [
            "/tmp/ipykernel_51142/556465209.py:49: UserWarning: Tight layout not applied. tight_layout cannot make axes width small enough to accommodate all axes decorations\n",
            "  fig.savefig(filename)\n"
          ]
        }
      ],
      "source": [
        "ImageWave(td_greenred_ai_mode, 'td_greenred_ai')"
      ]
    },
    {
      "cell_type": "code",
      "execution_count": 245,
      "metadata": {},
      "outputs": [],
      "source": [
        "ImageWave(ss_yellowmove_ai_mode, 'ss_yellowmove_ai')"
      ]
    },
    {
      "cell_type": "code",
      "execution_count": 28,
      "metadata": {},
      "outputs": [],
      "source": [
        "ImageWave(td_allgreen_ai_mode, 'td_allgreen_ai')\n",
        "ImageWave(td_allred_ai_mode, 'td_allred_ai')\n",
        "ImageWave(td_greenred_ai_mode, 'td_greenred_ai')\n",
        "ImageWave(td_redgreen_ai_mode, 'td_redgreen_ai')"
      ]
    },
    {
      "cell_type": "code",
      "execution_count": 29,
      "metadata": {},
      "outputs": [],
      "source": [
        "ImageWave(ss_yellowmove_ai_mode, 'ss_yellowmove_ai')\n",
        "ImageWave(ss_yellowstill_ai_mode, 'ss_yellowstill_ai')\n",
        "ImageWave(ss_redmove_ai_mode, 'ss_redmove_ai')\n",
        "ImageWave(ss_redstill_ai_mode, 'ss_redstill_ai')"
      ]
    }
  ],
  "metadata": {
    "colab": {
      "collapsed_sections": [],
      "name": "tcc-analysis.ipynb",
      "provenance": []
    },
    "kernelspec": {
      "display_name": "Python 3",
      "name": "python3"
    },
    "language_info": {
      "codemirror_mode": {
        "name": "ipython",
        "version": 3
      },
      "file_extension": ".py",
      "mimetype": "text/x-python",
      "name": "python",
      "nbconvert_exporter": "python",
      "pygments_lexer": "ipython3",
      "version": "3.9.7"
    }
  },
  "nbformat": 4,
  "nbformat_minor": 0
}
