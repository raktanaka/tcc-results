{
  "cells": [
    {
      "cell_type": "markdown",
      "metadata": {
        "id": "2g7E-zjITLLU"
      },
      "source": [
        "# TCC - Genetic Algorithm to control Waves in Games\n",
        "\n",
        "### Authors:\n",
        " - Daniel Hotta\n",
        " - Rafael Gonçalves Pereira Silva\n",
        " - Ricardo Akira Tanaka"
      ]
    },
    {
      "cell_type": "code",
      "execution_count": 155,
      "metadata": {
        "id": "P4p_u0VkCucC"
      },
      "outputs": [],
      "source": [
        "import os\n",
        "import re\n",
        "import numpy as np\n",
        "import pandas as pd\n",
        "import matplotlib\n",
        "import matplotlib.pyplot as plt\n",
        "import matplotlib.image as mpimg\n",
        "import matplotlib.gridspec as mpgs\n",
        "from matplotlib.backends.backend_pdf import PdfPages\n",
        "from tabulate import tabulate\n"
      ]
    },
    {
      "cell_type": "markdown",
      "metadata": {
        "id": "qjdIHDUXQfj8"
      },
      "source": [
        "## Simple description\n",
        "\n",
        "This notebook uses the results of the experiments we made with our Genetic Algorithm to conclude the overall perfomance agrandomnst a Uniform Enemy Generator and \"Naive Strategies\" (Like All Enemies with the same color or One of Each color).\n",
        "For uniform enemies, 10 waves were enough data, otherwise (random and AI) 30 waves were collected.\n",
        "\n",
        "- The libs you can find in two repositories: [SpaceShip](https://github.com/RGPRafael/godot) and [Tower Defense](https://github.com/raktanaka/tccTD)\n",
        "\n",
        "- The full dataset can be found [here](https://github.com/raktanaka/tcc-results).\n",
        "\n",
        "\n"
      ]
    },
    {
      "cell_type": "code",
      "execution_count": 118,
      "metadata": {},
      "outputs": [],
      "source": [
        "def GetFileList():\n",
        "    td_files = {}\n",
        "    ss_files = {}\n",
        "\n",
        "    for subdir, dirs, files in os.walk('.'):\n",
        "        for file in files:\n",
        "            if subdir[2:] == 'tccTD' and file.endswith('.txt'):\n",
        "                if not re.search('AI', file) and not re.search('Random', file):\n",
        "                    filepath = subdir + os.sep + file\n",
        "                    td_files[file[:-4]] = filepath\n",
        "                    #td_files.append(filepath)\n",
        "            elif subdir[2:] == 'tccSS' and file.endswith('.txt'):\n",
        "                if not re.search('AI', file) and not re.search('Random', file):\n",
        "                    filepath = subdir + os.sep + file\n",
        "                    #ss_files.append(filepath)\n",
        "                    ss_files[file[:-4]] = filepath\n",
        "            else:\n",
        "                pass\n",
        "    return(td_files, ss_files)"
      ]
    },
    {
      "cell_type": "code",
      "execution_count": 139,
      "metadata": {},
      "outputs": [],
      "source": [
        "def GetFileData(filepath):\n",
        "  #print(filepath)\n",
        "  df = pd.read_csv(filepath, header=None, delimiter=';')\n",
        "\n",
        "  if df.shape[0] < 899:\n",
        "    return(df.iloc[:300])\n",
        "  else:\n",
        "    return(df.iloc[:900])\n",
        "    "
      ]
    },
    {
      "cell_type": "code",
      "execution_count": 141,
      "metadata": {},
      "outputs": [],
      "source": [
        "def CalcStats(series):\n",
        "\n",
        "    avg = series.mean()\n",
        "    std = series.std()\n",
        "\n",
        "    return(avg, std)"
      ]
    },
    {
      "cell_type": "code",
      "execution_count": 145,
      "metadata": {},
      "outputs": [],
      "source": [
        "def CalcStats(path):\n",
        "\n",
        "    #l = []\n",
        "    #df_head = ['test case', 'average damage', 'standard deviation']\n",
        "    df = GetFileData(path)\n",
        "    df.iloc[:, -1] = pd.to_numeric(df.iloc[:, -1], downcast=\"float\")\n",
        "    avg = df.iloc[:, -1].mean()\n",
        "    std = df.iloc[:, -1].std()\n",
        "    #l.append(CalcStats(df.iloc[:, -1], key))\n",
        "\n",
        "    return(avg, std)"
      ]
    },
    {
      "cell_type": "code",
      "execution_count": 125,
      "metadata": {},
      "outputs": [],
      "source": [
        "def GetData(dic):\n",
        "\n",
        "    test_case = []\n",
        "    avg_dmg = []\n",
        "    std_dev = []\n",
        "\n",
        "    #df_head = ['test case', 'average damage', 'standard deviation']\n",
        "    for key in dic:\n",
        "        avg, std = CalcStats(dic[key])\n",
        "        test_case.append(key)\n",
        "        avg_dmg.append(avg)\n",
        "        std_dev.append(std)\n",
        "        #res.append(CalcStats(key, dic[key]))\n",
        "    \n",
        "    return(test_case, avg_dmg, std_dev)"
      ]
    },
    {
      "cell_type": "code",
      "execution_count": 148,
      "metadata": {},
      "outputs": [],
      "source": [
        "td_files, ss_files = GetFileList()\n",
        "\n",
        "df_header = ['test case', 'average damage', 'standard deviation']\n",
        "\n",
        "l1, l2, l3 = GetData(td_files)\n",
        "#df = pd.DataFrame(l, columns=df_header)\n",
        "td_df = pd.DataFrame([l1, l2, l3]).transpose()\n",
        "td_df.columns = df_header\n",
        "td_df = td_df.sort_values(by=['test case'])\n",
        "\n",
        "l1, l2, l3 = GetData(ss_files)\n",
        "#df = pd.DataFrame(l, columns=df_header)\n",
        "ss_df = pd.DataFrame([l1, l2, l3]).transpose()\n",
        "ss_df.columns = df_header\n",
        "ss_df = ss_df.sort_values(by=['test case'])"
      ]
    },
    {
      "cell_type": "code",
      "execution_count": 156,
      "metadata": {},
      "outputs": [
        {
          "data": {
            "text/plain": [
              "'|    | test case                                        |   average damage |   standard deviation |\\n|---:|:-------------------------------------------------|-----------------:|---------------------:|\\n|  3 | IA_MOVING_ SHOOTING _YELLOW_SHOOT - All_inimigo3 |         213.2    |              52.4291 |\\n|  2 | IA_MOVING_ SHOOTING _YELLOW_SHOOT - All_inimigo2 |         184.611  |              41.9805 |\\n|  0 | IA_MOVING_SHOOTING_ RED_SHOOT - All_inimigo2     |         169.667  |              49.7703 |\\n|  1 | IA_MOVING_ SHOOTING _YELLOW_SHOOT - All_inimigo1 |         130.1    |              48.1515 |\\n|  4 | IA_MOVING_ SHOOTING _YELLOW_SHOOT - All_inimigo4 |          80.6889 |              15.6992 |\\n|  6 | IA_MOVING_ SHOOTING _YELLOW_SHOOT - All_inimigos |          67.6889 |              15.4572 |\\n|  5 | IA_MOVING_ SHOOTING _YELLOW_SHOOT - All_inimigo5 |          39.2333 |               7.705  |'"
            ]
          },
          "execution_count": 156,
          "metadata": {},
          "output_type": "execute_result"
        }
      ],
      "source": [
        "ss_df.iloc[0:7, :].sort_values(by=['average damage'], ascending=False).to_markdown()"
      ]
    }
  ],
  "metadata": {
    "colab": {
      "collapsed_sections": [],
      "name": "tcc-analysis.ipynb",
      "provenance": []
    },
    "kernelspec": {
      "display_name": "Python 3",
      "name": "python3"
    },
    "language_info": {
      "codemirror_mode": {
        "name": "ipython",
        "version": 3
      },
      "file_extension": ".py",
      "mimetype": "text/x-python",
      "name": "python",
      "nbconvert_exporter": "python",
      "pygments_lexer": "ipython3",
      "version": "3.9.7"
    }
  },
  "nbformat": 4,
  "nbformat_minor": 0
}
